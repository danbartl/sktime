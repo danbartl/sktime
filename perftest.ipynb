{
 "cells": [
  {
   "cell_type": "code",
   "execution_count": 1,
   "metadata": {},
   "outputs": [],
   "source": [
    "import numpy as np\n",
    "import pandas as pd\n",
    "import timeit\n",
    "\n",
    "from sktime.datatypes._series._check import check_pddataframe_series\n",
    "from sktime.utils.validation.series import is_integer_index\n",
    "from sktime.datatypes._series._check import _index_equally_spaced\n",
    "from sktime.datatypes._series._check import is_in_valid_index_types\n",
    "from sktime.datatypes._utilities import get_time_index\n",
    "from sktime.datatypes._series._check import check_pddataframe_series\n",
    "from joblib import Parallel, delayed\n",
    "import multiprocessing\n",
    "\n",
    "def tmpFunc(df):\n",
    "    df['c'] = df.a + df.b\n",
    "    return df\n",
    "\n",
    "def applyParallel(dfGrouped, func):\n",
    "    retLst = Parallel(n_jobs=4)(delayed(func)(group) for name, group in dfGrouped)\n",
    "    return retLst\n",
    "\n",
    "\n",
    "def np_all_old_df(X):\n",
    "    diffs = np.diff(X)\n",
    "    all_equal = np.all(diffs == diffs[0])\n",
    "    return all_equal\n",
    "\n",
    "obj_raw = pd.read_pickle(\"data.pickle\")\n",
    "\n",
    "obj_1 = obj_raw.reset_index()\n",
    "\n",
    "obj_list = [obj_1,obj_1,obj_1,obj_1,obj_1,obj_1,obj_1,obj_1,obj_1]\n",
    "\n",
    "for index,df in enumerate(obj_list):\n",
    "    df = obj_list[index].copy()\n",
    "    df[\"time_series\"] = df[\"time_series\"] + \"flag\" + str(index)\n",
    "    obj_list[index] = df\n",
    "\n",
    "obj = pd.concat(obj_list)\n",
    "obj[\"date\"] = obj[\"date\"].dt.to_timestamp()\n",
    "obj_indexed = obj.set_index([\"time_series\", \"date\"])\n",
    "\n",
    "#obj_indexed.reset_index().groupby(\"time_series\", as_index=False,group_keys=False).apply(lambda x: [check_pddataframe_series(x.set_index(\"date\"), return_metadata = True)])\n",
    "\n",
    "inst_inds = obj_indexed.index.get_level_values(0).unique()\n",
    "inst_inds = np.unique(obj_indexed.index.get_level_values(0))\n",
    "\n",
    "datetime_groupby =timeit.timeit(lambda: obj.groupby(\"time_series\", as_index=False)[\"date\"].apply(lambda x: np_all_old_df(x)), number =1)\n",
    "datetime_parallel = timeit.timeit(lambda: applyParallel(obj.groupby(\"time_series\", as_index=False)[\"date\"], np_all_old_df), number =1)\n",
    "datetime_list = timeit.timeit(lambda: [np_all_old_df(obj_indexed.loc[i].index) for i in inst_inds], number =1)\n",
    "\n",
    "datetime_df_groupby_1 = timeit.timeit(lambda: obj_indexed.groupby(level=\"time_series\",group_keys=False, as_index=True).apply(lambda df: check_pddataframe_series(df.droplevel(0), return_metadata=True)), number =1)\n",
    "datetime_df_groupby_2 = timeit.timeit(lambda: obj_indexed.reset_index(-1).groupby(level=\"time_series\").apply(lambda df: pd.DataFrame(check_pddataframe_series(df.set_index(obj_indexed.index.names[-1]), return_metadata=True))), number =1)\n",
    "datetime_df_list = timeit.timeit(lambda: [check_pddataframe_series(obj_indexed.loc[i], return_metadata=True) for i in inst_inds], number =1)\n",
    "\n",
    "\n",
    "import polars as pl\n",
    "objpl = pl.DataFrame(obj)\n",
    "polars_test = timeit.timeit(lambda: objpl.groupby(\"time_series\").agg(pl.col(\"date\").diff(null_behavior=\"drop\").unique().len()).filter(pl.col(\"date\")!=1), number = 1)\n",
    "\n",
    "a=0\n",
    "\n",
    "#timeit.timeit(lambda: obj_indexed.groupby(level=\"time_series\", as_index=False).apply(lambda df: np_all_new(df.index.get_level_values(-1))), number =1)\n",
    "\n",
    "obj = pd.concat(obj_list)\n",
    "obj_indexed = obj.set_index([\"time_series\", \"date\"])\n",
    "\n",
    "#obj_indexed.reset_index().groupby(\"time_series\", as_index=False,group_keys=False).apply(lambda x: [check_pddataframe_series(x.set_index(\"date\"), return_metadata = True)])\n",
    "\n",
    "inst_inds = obj_indexed.index.get_level_values(0).unique()\n",
    "inst_inds = np.unique(obj_indexed.index.get_level_values(0))\n",
    "\n",
    "period_groupby =timeit.timeit(lambda: obj.groupby(\"time_series\", as_index=False)[\"date\"].apply(lambda x: np_all_old_df(x)), number =1)\n",
    "period_parallel = timeit.timeit(lambda: applyParallel(obj.groupby(\"time_series\", as_index=False)[\"date\"], np_all_old_df), number =1)\n",
    "period_list = timeit.timeit(lambda: [np_all_old_df(obj_indexed.loc[i].index) for i in inst_inds], number =1)\n",
    "\n",
    "\n",
    "period_df_groupby_1 = timeit.timeit(lambda: [check_pddataframe_series(obj_indexed.loc[i], return_metadata=True) for i in inst_inds], number =1)\n",
    "period_df_groupby_2 = timeit.timeit(lambda: obj_indexed.reset_index(-1).groupby(level=\"time_series\").apply(lambda df: pd.DataFrame(check_pddataframe_series(df.set_index(obj_indexed.index.names[-1]), return_metadata=True))), number =1)\n",
    "period_df_list = timeit.timeit(lambda: obj_indexed.groupby(level=\"time_series\",group_keys=False, as_index=True).apply(lambda df: check_pddataframe_series(df.droplevel(0), return_metadata=True)), number =1)\n",
    "\n",
    "\n"
   ]
  },
  {
   "cell_type": "code",
   "execution_count": 2,
   "metadata": {},
   "outputs": [
    {
     "name": "stdout",
     "output_type": "stream",
     "text": [
      "0.9316407999722287\n",
      "2.2196936999971513\n",
      "22.5072344999935\n",
      "82.77731599999242\n",
      "25.431281600001967\n",
      "99.5701433000213\n",
      "2.2825409999932162\n",
      "2.2825409999932162\n",
      "23.542049199983012\n",
      "100.07524169998942\n",
      "100.07524169998942\n",
      "82.45051199998125\n"
     ]
    }
   ],
   "source": [
    "#diff check only\n",
    "print(datetime_groupby)\n",
    "print(datetime_parallel)\n",
    "print(datetime_list)\n",
    "print(period_groupby)\n",
    "print(period_parallel)\n",
    "print(period_list)\n",
    "\n",
    "\n",
    "\n",
    "print(datetime_df_groupby_1)\n",
    "print(datetime_df_groupby_1)\n",
    "print(datetime_df_list)\n",
    "print(period_df_groupby_1)\n",
    "print(period_df_groupby_1)\n",
    "print(period_df_list)\n"
   ]
  },
  {
   "cell_type": "code",
   "execution_count": 3,
   "metadata": {},
   "outputs": [
    {
     "name": "stdout",
     "output_type": "stream",
     "text": [
      "0.17867240001214668\n"
     ]
    }
   ],
   "source": [
    "print(polars_test)"
   ]
  },
  {
   "cell_type": "code",
   "execution_count": null,
   "metadata": {},
   "outputs": [],
   "source": []
  }
 ],
 "metadata": {
  "kernelspec": {
   "display_name": "Python 3.8.10 ('sktime_202207')",
   "language": "python",
   "name": "python3"
  },
  "language_info": {
   "codemirror_mode": {
    "name": "ipython",
    "version": 3
   },
   "file_extension": ".py",
   "mimetype": "text/x-python",
   "name": "python",
   "nbconvert_exporter": "python",
   "pygments_lexer": "ipython3",
   "version": "3.8.10"
  },
  "orig_nbformat": 4,
  "vscode": {
   "interpreter": {
    "hash": "009b4bb1726219874338b568d0260da12180be3149fccd452a988a7866c0e305"
   }
  }
 },
 "nbformat": 4,
 "nbformat_minor": 2
}
