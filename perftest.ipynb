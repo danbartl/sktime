{
 "cells": [
  {
   "cell_type": "code",
   "execution_count": 3,
   "metadata": {},
   "outputs": [],
   "source": [
    "import multiprocessing\n",
    "import timeit\n",
    "\n",
    "import numpy as np\n",
    "import pandas as pd\n",
    "from joblib import Parallel, delayed\n",
    "\n",
    "from sktime.datatypes._series._check import (\n",
    "    _index_equally_spaced,\n",
    "    check_pddataframe_series,\n",
    "    is_in_valid_index_types,\n",
    ")\n",
    "from sktime.datatypes._utilities import get_time_index\n",
    "from sktime.utils.validation.series import is_integer_index\n",
    "\n",
    "\n",
    "def tmpFunc(df):\n",
    "    df[\"c\"] = df.a + df.b\n",
    "    return df\n",
    "\n",
    "\n",
    "def applyParallel(dfGrouped, func):\n",
    "    retLst = Parallel(n_jobs=4)(delayed(func)(group) for name, group in dfGrouped)\n",
    "    return retLst\n",
    "\n",
    "\n",
    "def np_all_old_df(X):\n",
    "    diffs = np.diff(X)\n",
    "    all_equal = np.all(diffs == diffs[0])\n",
    "    return all_equal\n",
    "\n",
    "\n",
    "obj_raw = pd.read_pickle(\"data.pickle\")\n",
    "\n",
    "obj_1 = obj_raw.reset_index()\n",
    "\n",
    "obj_list = [obj_1, obj_1, obj_1, obj_1, obj_1, obj_1, obj_1, obj_1, obj_1]\n",
    "\n",
    "for index, df in enumerate(obj_list):\n",
    "    df = obj_list[index].copy()\n",
    "    df[\"time_series\"] = df[\"time_series\"] + \"flag\" + str(index)\n",
    "    obj_list[index] = df\n",
    "\n",
    "obj = pd.concat(obj_list)\n",
    "obj[\"date\"] = obj[\"date\"].dt.to_timestamp()\n",
    "obj_indexed = obj.set_index([\"time_series\", \"date\"])\n",
    "\n",
    "# obj_indexed.reset_index().groupby(\"time_series\", as_index=False,group_keys=False).apply(lambda x: [check_pddataframe_series(x.set_index(\"date\"), return_metadata = True)])\n",
    "\n",
    "inst_inds = obj_indexed.index.get_level_values(0).unique()\n",
    "inst_inds = np.unique(obj_indexed.index.get_level_values(0))\n",
    "\n",
    "datetime_groupby = timeit.timeit(\n",
    "    lambda: obj.groupby(\"time_series\", as_index=False)[\"date\"].apply(\n",
    "        lambda x: np_all_old_df(x)\n",
    "    ),\n",
    "    number=1,\n",
    ")\n",
    "datetime_parallel = timeit.timeit(\n",
    "    lambda: applyParallel(\n",
    "        obj.groupby(\"time_series\", as_index=False)[\"date\"], np_all_old_df\n",
    "    ),\n",
    "    number=1,\n",
    ")\n",
    "datetime_list = timeit.timeit(\n",
    "    lambda: [np_all_old_df(obj_indexed.loc[i].index) for i in inst_inds], number=1\n",
    ")\n",
    "\n",
    "datetime_df_groupby_1 = timeit.timeit(\n",
    "    lambda: obj_indexed.groupby(\n",
    "        level=\"time_series\", group_keys=False, as_index=True\n",
    "    ).apply(lambda df: check_pddataframe_series(df.droplevel(0), return_metadata=True)),\n",
    "    number=1,\n",
    ")\n",
    "datetime_df_groupby_2 = timeit.timeit(\n",
    "    lambda: obj_indexed.reset_index(-1)\n",
    "    .groupby(level=\"time_series\")\n",
    "    .apply(\n",
    "        lambda df: pd.DataFrame(\n",
    "            check_pddataframe_series(\n",
    "                df.set_index(obj_indexed.index.names[-1]), return_metadata=True\n",
    "            )\n",
    "        )\n",
    "    ),\n",
    "    number=1,\n",
    ")\n",
    "datetime_df_list = timeit.timeit(\n",
    "    lambda: [\n",
    "        check_pddataframe_series(obj_indexed.loc[i], return_metadata=True)\n",
    "        for i in inst_inds\n",
    "    ],\n",
    "    number=1,\n",
    ")\n",
    "\n",
    "\n",
    "import polars as pl\n",
    "\n",
    "objpl = pl.DataFrame(obj)\n",
    "polars_test = timeit.timeit(\n",
    "    lambda: objpl.groupby(\"time_series\")\n",
    "    .agg(pl.col(\"date\").diff(null_behavior=\"drop\").unique().len())\n",
    "    .filter(pl.col(\"date\") != 1),\n",
    "    number=1,\n",
    ")\n",
    "\n",
    "a = 0\n",
    "\n",
    "# timeit.timeit(lambda: obj_indexed.groupby(level=\"time_series\", as_index=False).apply(lambda df: np_all_new(df.index.get_level_values(-1))), number =1)\n",
    "\n",
    "obj = pd.concat(obj_list)\n",
    "obj_indexed = obj.set_index([\"time_series\", \"date\"])\n",
    "\n",
    "# obj_indexed.reset_index().groupby(\"time_series\", as_index=False,group_keys=False).apply(lambda x: [check_pddataframe_series(x.set_index(\"date\"), return_metadata = True)])\n",
    "\n",
    "inst_inds = obj_indexed.index.get_level_values(0).unique()\n",
    "inst_inds = np.unique(obj_indexed.index.get_level_values(0))\n",
    "\n",
    "period_groupby = timeit.timeit(\n",
    "    lambda: obj.groupby(\"time_series\", as_index=False)[\"date\"].apply(\n",
    "        lambda x: np_all_old_df(x)\n",
    "    ),\n",
    "    number=1,\n",
    ")\n",
    "period_parallel = timeit.timeit(\n",
    "    lambda: applyParallel(\n",
    "        obj.groupby(\"time_series\", as_index=False)[\"date\"], np_all_old_df\n",
    "    ),\n",
    "    number=1,\n",
    ")\n",
    "period_list = timeit.timeit(\n",
    "    lambda: [np_all_old_df(obj_indexed.loc[i].index) for i in inst_inds], number=1\n",
    ")\n",
    "\n",
    "\n",
    "period_df_groupby_1 = timeit.timeit(\n",
    "    lambda: [\n",
    "        check_pddataframe_series(obj_indexed.loc[i], return_metadata=True)\n",
    "        for i in inst_inds\n",
    "    ],\n",
    "    number=1,\n",
    ")\n",
    "period_df_groupby_2 = timeit.timeit(\n",
    "    lambda: obj_indexed.reset_index(-1)\n",
    "    .groupby(level=\"time_series\")\n",
    "    .apply(\n",
    "        lambda df: pd.DataFrame(\n",
    "            check_pddataframe_series(\n",
    "                df.set_index(obj_indexed.index.names[-1]), return_metadata=True\n",
    "            )\n",
    "        )\n",
    "    ),\n",
    "    number=1,\n",
    ")\n",
    "period_df_list = timeit.timeit(\n",
    "    lambda: obj_indexed.groupby(\n",
    "        level=\"time_series\", group_keys=False, as_index=True\n",
    "    ).apply(lambda df: check_pddataframe_series(df.droplevel(0), return_metadata=True)),\n",
    "    number=1,\n",
    ")"
   ]
  },
  {
   "cell_type": "code",
   "execution_count": 4,
   "metadata": {},
   "outputs": [
    {
     "name": "stdout",
     "output_type": "stream",
     "text": [
      "0.9469833999755792\n",
      "2.2422068000014406\n",
      "20.45972859999165\n"
     ]
    }
   ],
   "source": [
    "# diff check only with datetimeindex\n",
    "print(datetime_groupby)\n",
    "print(datetime_parallel)\n",
    "print(datetime_list)"
   ]
  },
  {
   "cell_type": "code",
   "execution_count": 5,
   "metadata": {},
   "outputs": [
    {
     "name": "stdout",
     "output_type": "stream",
     "text": [
      "85.40576159997727\n",
      "27.369318099983502\n",
      "98.94617319997633\n"
     ]
    }
   ],
   "source": [
    "# diff check only with periodindex\n",
    "print(period_groupby)\n",
    "print(period_parallel)\n",
    "print(period_list)"
   ]
  },
  {
   "cell_type": "code",
   "execution_count": 9,
   "metadata": {},
   "outputs": [
    {
     "name": "stdout",
     "output_type": "stream",
     "text": [
      "2.3897417999978643\n",
      "3.557807600009255\n",
      "21.432788200007053\n"
     ]
    }
   ],
   "source": [
    "# full check_pddataframe_series check only  with datetimeindex\n",
    "print(datetime_df_groupby_1)\n",
    "print(datetime_df_groupby_2)\n",
    "print(datetime_df_list)\n"
   ]
  },
  {
   "cell_type": "code",
   "execution_count": 7,
   "metadata": {},
   "outputs": [
    {
     "name": "stdout",
     "output_type": "stream",
     "text": [
      "103.6553393000213\n",
      "103.6553393000213\n",
      "83.65653779997956\n"
     ]
    }
   ],
   "source": [
    "# full check_pddataframe_series with periodindex\n",
    "print(period_df_groupby_1)\n",
    "print(period_df_groupby_1)\n",
    "print(period_df_list)"
   ]
  },
  {
   "cell_type": "code",
   "execution_count": 8,
   "metadata": {},
   "outputs": [
    {
     "name": "stdout",
     "output_type": "stream",
     "text": [
      "0.17094579999684356\n"
     ]
    }
   ],
   "source": [
    "# diff check only with polars library\n",
    "print(polars_test)"
   ]
  },
  {
   "cell_type": "code",
   "execution_count": null,
   "metadata": {},
   "outputs": [],
   "source": []
  }
 ],
 "metadata": {
  "kernelspec": {
   "display_name": "Python 3.8.10 ('sktime_202207')",
   "language": "python",
   "name": "python3"
  },
  "language_info": {
   "codemirror_mode": {
    "name": "ipython",
    "version": 3
   },
   "file_extension": ".py",
   "mimetype": "text/x-python",
   "name": "python",
   "nbconvert_exporter": "python",
   "pygments_lexer": "ipython3",
   "version": "3.8.10"
  },
  "orig_nbformat": 4,
  "vscode": {
   "interpreter": {
    "hash": "009b4bb1726219874338b568d0260da12180be3149fccd452a988a7866c0e305"
   }
  }
 },
 "nbformat": 4,
 "nbformat_minor": 2
}
