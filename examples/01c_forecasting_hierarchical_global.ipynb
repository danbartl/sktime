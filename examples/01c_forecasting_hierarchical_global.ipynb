{
 "cells": [
  {
   "cell_type": "markdown",
   "metadata": {},
   "source": [
    "# Hierarchical, Global, and Panel Forecasting with `sktime`"
   ]
  },
  {
   "cell_type": "markdown",
   "metadata": {},
   "source": [
    "### Overview of this notebook\n",
    "\n",
    "* introduction - hierarchical time series\n",
    "* hierarchical and panel data format in sktime\n",
    "* automated vectorization of forecasters and transformers\n",
    "* hierarchical reconciliation in sktime\n",
    "* hierarchical/global forecasting using summarization/reduction models, \"M5 winner\"\n",
    "* extender guide\n",
    "* contributor credits"
   ]
  },
  {
   "cell_type": "code",
   "execution_count": null,
   "metadata": {},
   "outputs": [],
   "source": [
    "import warnings\n",
    "\n",
    "warnings.filterwarnings(\"ignore\")"
   ]
  },
  {
   "cell_type": "markdown",
   "metadata": {},
   "source": [
    "---\n",
    "## Hierarchical time series\n",
    "\n",
    "Time series are often present in \"hierarchical\" form, example:\n",
    "\n",
    "<img src=\"./img/hierarchytree.png\" width=\"1200\" alt=\"arrow heads\">\n",
    "\n",
    "Examples include:\n",
    "* Product sales in different categories (e.g. M5 time series competition)\n",
    "* Tourism demand in different regions\n",
    "* Balance sheet structures across cost centers / accounts\n",
    "\n",
    "Many hierarchical time series datasets can be found here:\n",
    "https://forecastingdata.org/\n",
    "(access loader in development)\n",
    "\n",
    "For literature see also:\n",
    "https://otexts.com/fpp2/hierarchical.html\n",
    "\n",
    "A time series can also exhibit multiple independent hierarchies:\n",
    "\n",
    "<img src=\"./img/hierarchytree_grouped.png\" width=\"1200\" alt=\"arrow heads\">"
   ]
  },
  {
   "cell_type": "markdown",
   "metadata": {},
   "source": [
    "---\n",
    "\n",
    "### Representation of hierarchical and panel datatypes\n",
    "\n",
    "`sktime` distinguishes as abstract scientific data types for time series (=\"scitypes\"):\n",
    "\n",
    "* `Series` type = one time series (uni or multivariate)\n",
    "* `Panel` type = collection of multiple time series, flat hierarchy\n",
    "* `Hierarchical` type = hierarchical collection of time series, as above\n",
    "\n",
    "Each scitype has multiple mtype representations.\n",
    "\n",
    "For simplicitly, we focus only on `pandas.DataFrame` based representations below."
   ]
  },
  {
   "cell_type": "code",
   "execution_count": null,
   "metadata": {},
   "outputs": [],
   "source": [
    "# import to retrieve examples\n",
    "\n",
    "from sktime.datatypes import get_examples"
   ]
  },
  {
   "cell_type": "markdown",
   "metadata": {},
   "source": [
    "#### Individual time series - `Series` scitype, `\"pd.DataFrame\"` mtype\n",
    "\n",
    "In the `\"pd.DataFrame\"` mtype, time series are represented by an in-memory container `obj: pandas.DataFrame` as follows.\n",
    "\n",
    "* structure convention: `obj.index` must be monotonous, and one of `Int64Index`, `RangeIndex`, `DatetimeIndex`, `PeriodIndex`.\n",
    "* variables: columns of `obj` correspond to different variables\n",
    "* variable names: column names `obj.columns`\n",
    "* time points: rows of `obj` correspond to different, distinct time points\n",
    "* time index: `obj.index` is interpreted as a time index.\n",
    "* capabilities: can represent multivariate series; can represent unequally spaced series"
   ]
  },
  {
   "cell_type": "markdown",
   "metadata": {},
   "source": [
    "Example of a univariate series in `\"pd.DataFrame\"` representation.\\\n",
    "This series has two variables, named `\"a\"` and `\"b\"`. Both are observed at the same four time points 0, 1, 2, 3."
   ]
  },
  {
   "cell_type": "code",
   "execution_count": null,
   "metadata": {},
   "outputs": [],
   "source": [
    "get_examples(mtype=\"pd.DataFrame\")[0]"
   ]
  },
  {
   "cell_type": "markdown",
   "metadata": {},
   "source": [
    "Example of a bivariate series in `\"pd.DataFrame\"` representation.\\\n",
    "This series has two variables, named `\"a\"` and `\"b\"`. Both are observed at the same four time points 0, 1, 2, 3."
   ]
  },
  {
   "cell_type": "code",
   "execution_count": null,
   "metadata": {},
   "outputs": [],
   "source": [
    "get_examples(mtype=\"pd.DataFrame\")[1]"
   ]
  },
  {
   "cell_type": "markdown",
   "metadata": {},
   "source": [
    "#### Panels (= flat collections) of time series - `Panel` scitype, `\"pd-multiindex\"` mtype\n",
    "\n",
    "In the `\"pd-multiindex\"` mtype, time series panels are represented by an in-memory container `obj: pandas.DataFrame` as follows.\n",
    "\n",
    "* structure convention: `obj.index` must be a pair multi-index of type `(RangeIndex, t)`, where `t` is one of `Int64Index`, `RangeIndex`, `DatetimeIndex`, `PeriodIndex` and monotonous.\n",
    "* instances: rows with the same `\"instances\"` index correspond to the same instance; rows with different `\"instances\"` index correspond to different instances.\n",
    "* instance index: the first element of pairs in `obj.index` is interpreted as an instance index. \n",
    "* variables: columns of `obj` correspond to different variables\n",
    "* variable names: column names `obj.columns`\n",
    "* time points: rows of `obj` with the same `\"timepoints\"` index correspond correspond to the same time point; rows of `obj` with different `\"timepoints\"` index correspond correspond to the different time points.\n",
    "* time index: the second element of pairs in `obj.index` is interpreted as a time index. \n",
    "* capabilities: can represent panels of multivariate series; can represent unequally spaced series; can represent panels of unequally supported series; cannot represent panels of series with different sets of variables."
   ]
  },
  {
   "cell_type": "markdown",
   "metadata": {},
   "source": [
    "Example of a panel of multivariate series in `\"pd-multiindex\"` mtype representation.\n",
    "The panel contains three multivariate series, with instance indices 0, 1, 2. All series have two variables with names `\"var_0\"`, `\"var_1\"`. All series are observed at three time points 0, 1, 2."
   ]
  },
  {
   "cell_type": "code",
   "execution_count": null,
   "metadata": {},
   "outputs": [],
   "source": [
    "get_examples(mtype=\"pd-multiindex\")[0]"
   ]
  },
  {
   "cell_type": "markdown",
   "metadata": {},
   "source": [
    "#### Hierarchical time series - `Hierarchical` scitype, `\"pd_multiindex_hier\"` mtype\n",
    "\n",
    "* structure convention: `obj.index` must be a 3 or more level multi-index of type `(RangeIndex, ..., RangeIndex, t)`, where `t` is one of `Int64Index`, `RangeIndex`, `DatetimeIndex`, `PeriodIndex` and monotonous. We call the last index the \"time-like\" index\n",
    "* hierarchy level: rows with the same non-time-like indices correspond to the same hierarchy unit; rows with different non-time-like index combination correspond to different hierarchy unit.\n",
    "* hierarchy: the non-time-like indices in `obj.index` are interpreted as a hierarchy identifying index. \n",
    "* variables: columns of `obj` correspond to different variables\n",
    "* variable names: column names `obj.columns`\n",
    "* time points: rows of `obj` with the same `\"timepoints\"` index correspond correspond to the same time point; rows of `obj` with different `\"timepoints\"` index correspond correspond to the different time points.\n",
    "* time index: the last element of tuples in `obj.index` is interpreted as a time index. \n",
    "* capabilities: can represent hierarchical series; can represent unequally spaced series; can represent unequally supported hierarchical series; cannot represent hierarchical series with different sets of variables."
   ]
  },
  {
   "cell_type": "code",
   "execution_count": null,
   "metadata": {},
   "outputs": [],
   "source": [
    "X = get_examples(mtype=\"pd_multiindex_hier\")[0]\n",
    "X"
   ]
  },
  {
   "cell_type": "code",
   "execution_count": null,
   "metadata": {},
   "outputs": [],
   "source": [
    "X.index.get_level_values(level=-1)"
   ]
  },
  {
   "cell_type": "markdown",
   "metadata": {},
   "source": [
    "---\n",
    "\n",
    "### Automated vectorization (casting) of forecasters and transformers\n",
    "\n",
    "Many transformers and forecasters implemented for single series\n",
    "\n",
    "`sktime` automatically vectorizes/\"up-casts\" them to hierarchical data\n",
    "\n",
    "\"apply by individual series/panel in the hierarchical structure\""
   ]
  },
  {
   "cell_type": "markdown",
   "metadata": {},
   "source": [
    "constructing a hierarchical time series:"
   ]
  },
  {
   "cell_type": "code",
   "execution_count": null,
   "metadata": {},
   "outputs": [],
   "source": [
    "from sktime.utils._testing.hierarchical import _make_hierarchical\n",
    "\n",
    "y = _make_hierarchical()\n",
    "y"
   ]
  },
  {
   "cell_type": "markdown",
   "metadata": {},
   "source": [
    "all forecasters and transformers are applicable to this!\\\n",
    "if forecaster implements logic for single series only, \"apply to all hierarchy units\""
   ]
  },
  {
   "cell_type": "code",
   "execution_count": null,
   "metadata": {},
   "outputs": [],
   "source": [
    "from sktime.forecasting.arima import ARIMA\n",
    "\n",
    "forecaster = ARIMA()\n",
    "\n",
    "y_pred = forecaster.fit(y, fh=[1, 2]).predict()\n",
    "y_pred"
   ]
  },
  {
   "cell_type": "markdown",
   "metadata": {},
   "source": [
    "individual forecasters fitted per hierarchy level are stored in the  `forecasters_` attribute\\\n",
    "this contains a `pandas.DataFrame` in the same format as the hierarchy levels, and fitted forecasters inside\\\n",
    "(for transformers, the attribute is called `transformers_`)"
   ]
  },
  {
   "cell_type": "code",
   "execution_count": null,
   "metadata": {},
   "outputs": [],
   "source": [
    "forecaster.forecasters_"
   ]
  },
  {
   "cell_type": "markdown",
   "metadata": {},
   "source": [
    "to access or inspect individual forecasters, access elements of the `forecasters_` data frame:"
   ]
  },
  {
   "cell_type": "code",
   "execution_count": null,
   "metadata": {},
   "outputs": [],
   "source": [
    "forecaster.forecasters_.iloc[0, 0].summary()"
   ]
  },
  {
   "cell_type": "markdown",
   "metadata": {},
   "source": [
    "auto-vectorization is also performed for probabilistic forecasts (see notebook 2):"
   ]
  },
  {
   "cell_type": "code",
   "execution_count": null,
   "metadata": {},
   "outputs": [],
   "source": [
    "forecaster.predict_interval()"
   ]
  },
  {
   "cell_type": "markdown",
   "metadata": {},
   "source": [
    "which level a forecaster/natively implements and when vectorization occurs is determined by the \"inner mtype\" attributes.\n",
    "\n",
    "For forecasters, inspect `y_inner_mtype`, this is a list of internally supported machine types:"
   ]
  },
  {
   "cell_type": "code",
   "execution_count": null,
   "metadata": {},
   "outputs": [],
   "source": [
    "forecaster.get_tag(\"y_inner_mtype\")"
   ]
  },
  {
   "cell_type": "markdown",
   "metadata": {},
   "source": [
    "ARIMA supports only one `Series` level mtype.\n",
    "For a register of all mtype codes and their corresponding scitype (series, panel or hierarchical),\\\n",
    "see `sktime.datatypes.MTYPE_REGISTER` (convert to `pandas.DataFrame` for pretty-printing)"
   ]
  },
  {
   "cell_type": "code",
   "execution_count": null,
   "metadata": {},
   "outputs": [],
   "source": [
    "import pandas as pd\n",
    "\n",
    "from sktime.datatypes import MTYPE_REGISTER\n",
    "\n",
    "pd.DataFrame(MTYPE_REGISTER)"
   ]
  },
  {
   "cell_type": "markdown",
   "metadata": {},
   "source": [
    "roadmap items:\n",
    "\n",
    "* interfacing and implementing common methods with native hierarchical support\n",
    "    * ARIMA using hierarchy factors, GEE, mixed effects\n",
    "* wrappers for \"using hierarchy levels\" as covariates or exogeneous features\n",
    "* full vectorization over variables to render univariate forecasters multivariate\n",
    "\n",
    "contributions are appreciated!"
   ]
  },
  {
   "cell_type": "markdown",
   "metadata": {},
   "source": [
    "---\n",
    "\n",
    "### Hierarchical reconciliation\n",
    "\n",
    "#### Why do we need hierarchical reconciliation\n",
    "\n",
    "forecast reconciliation = ensuring that linear hierarchy dependencies are met,\\\n",
    "e.g., \"sum of individual shop sales in Berlin must equal sum of total sales in Berlin\"\\\n",
    "requires hierarchical (or panel) data, usually involves totals\n",
    "\n",
    "**Bottom up reconciliation** works by producing only forecasts at the lowest level and then adding up to totals across all higher levels. \n",
    "\n",
    "    * Arguably the most simple of all algorithms to reconcile across hierarchies.\n",
    "    * Advantages: easy to implement\n",
    "    * Disadvantages: lower levels of hierarchy are prone to excess volatility. This excess volatility is aggregated up, often producing much less accurate top level forecasts.\n",
    "\n",
    "**Top down reconciliation** works by producing top level forecasts and breaking them down to  the lowest level based e.g. on relative proportions of those lower levels.\n",
    "\n",
    "    * Advantages: still easy to implement, top level is stable\n",
    "    * Disadvantages: peculiarities of lower levels of hierarchy ignored\n",
    "\n",
    "**Optimal forecast reconciliation** works by producing forecasts at all levels of the hierarchy and adjusting all of them in a way that seeks to minimize the forecast errors\n",
    "\n",
    "    * Advantages: often found to be most accurate implementation\n",
    "    * Disadvantages: more difficult to implement"
   ]
  },
  {
   "cell_type": "markdown",
   "metadata": {},
   "source": [
    "`sktime` provides functionality for reconciliation:\n",
    "\n",
    "* data container convention for node-wise aggregates\n",
    "* functionality to compute node-wise aggregates - `Aggregator`\n",
    "    * can be used for bottom-up reconciliation\n",
    "* transformer implementing reconiliation logic - `Reconciler`\n",
    "    * implements top-down reconciliation\n",
    "    * implements transformer-like optimal forecast reconciliation"
   ]
  },
  {
   "cell_type": "markdown",
   "metadata": {},
   "source": [
    "#### The node-wise aggregate data format"
   ]
  },
  {
   "cell_type": "markdown",
   "metadata": {},
   "source": [
    "`sktime` uses a special case of the `pd_multiindex_hier` format to store node-wise aggregates:\n",
    "\n",
    "* a `__total` index element in an instance (non-time-like) level indicates summation over all instances below that level\n",
    "* the `__total` index element is reserved and cannot be used for anything else\n",
    "* entries below a `__total` index element are sums of entries over all other instances in the same levels where a `__total` element is found"
   ]
  },
  {
   "cell_type": "markdown",
   "metadata": {},
   "source": [
    "#### The aggregation transformer\n",
    "\n",
    "The node-wise aggregated format can be obtained by applying the `Aggregator` transformer.\n",
    "\n",
    "In a pipeline with non-aggregate dinput, this allows making forecasts by totals."
   ]
  },
  {
   "cell_type": "code",
   "execution_count": null,
   "metadata": {},
   "outputs": [],
   "source": [
    "from sktime.datatypes import get_examples\n",
    "\n",
    "y_hier = get_examples(\"pd_multiindex_hier\")[1]\n",
    "y_hier"
   ]
  },
  {
   "cell_type": "code",
   "execution_count": null,
   "metadata": {},
   "outputs": [],
   "source": [
    "from sktime.transformations.hierarchical.aggregate import Aggregator\n",
    "\n",
    "Aggregator().fit_transform(y_hier)"
   ]
  },
  {
   "cell_type": "markdown",
   "metadata": {},
   "source": [
    "If used at the start of a pipeline, forecasts are made for node `__total`-s as well as individual instances.\n",
    "\n",
    "Note: in general, this does not result in a reconciled forecast, i.e., forecast totals will not add up."
   ]
  },
  {
   "cell_type": "code",
   "execution_count": null,
   "metadata": {},
   "outputs": [],
   "source": [
    "from sktime.forecasting.naive import NaiveForecaster\n",
    "\n",
    "pipeline_to_forecast_totals = Aggregator() * NaiveForecaster()\n",
    "\n",
    "pipeline_to_forecast_totals.fit(y_hier, fh=[1, 2])\n",
    "pipeline_to_forecast_totals.predict()"
   ]
  },
  {
   "cell_type": "markdown",
   "metadata": {},
   "source": [
    "If used at the end of a pipeline, forecasts are reconciled bottom-up.\n",
    "\n",
    "That will result in a reconciled forecast, although bottom-up may not be the method of choice."
   ]
  },
  {
   "cell_type": "code",
   "execution_count": null,
   "metadata": {},
   "outputs": [],
   "source": [
    "from sktime.forecasting.naive import NaiveForecaster\n",
    "\n",
    "pipeline_to_forecast_totals = NaiveForecaster() * Aggregator()\n",
    "\n",
    "pipeline_to_forecast_totals.fit(y_hier, fh=[1, 2])\n",
    "pipeline_to_forecast_totals.predict()"
   ]
  },
  {
   "cell_type": "markdown",
   "metadata": {},
   "source": [
    "#### Advanced reconciliation"
   ]
  },
  {
   "cell_type": "markdown",
   "metadata": {},
   "source": [
    "For transformer-like reconciliation, use the `Reconciler`.\n",
    "It supports advanced techniques such as OLS and WLS:"
   ]
  },
  {
   "cell_type": "code",
   "execution_count": null,
   "metadata": {},
   "outputs": [],
   "source": [
    "from sktime.transformations.hierarchical.reconcile import Reconciler\n",
    "\n",
    "pipeline_with_reconciliation = (\n",
    "    Aggregator() * NaiveForecaster() * Reconciler(method=\"ols\")\n",
    ")"
   ]
  },
  {
   "cell_type": "code",
   "execution_count": null,
   "metadata": {},
   "outputs": [],
   "source": [
    "pipeline_to_forecast_totals.fit(y_hier, fh=[1, 2])\n",
    "pipeline_to_forecast_totals.predict()"
   ]
  },
  {
   "cell_type": "markdown",
   "metadata": {},
   "source": [
    "Roadmap items:\n",
    "\n",
    "* reconciliation of wrapper type\n",
    "* reconciliation & global forecasting\n",
    "* probabilistic reconciliation"
   ]
  },
  {
   "cell_type": "markdown",
   "metadata": {},
   "source": [
    "---\n",
    "\n",
    "### Global/panel forecasting - introduction\n",
    "\n",
    "Global forecasting = training **across sets of time series**, i.e., on time series **panels**.\\\n",
    "Typically better than \"fit one forecaster per time series instance\".\n",
    "\n",
    "Also called \"panel forecasting\" for homogeneous/contemporaneous index sets.\n",
    "\n",
    " Why does global forecasting matter?\n",
    " * In practice, we often have time series of limited range\n",
    " * Estimation is difficult, and we cannot model complex dependencies\n",
    " * Assumption of global forecasting: We can observe the identical data generating process (DGP) multiple times\n",
    " * Non-identical DGPs can be fine too, as long as the degree of dissimilarity is captured by exogeneous information\n",
    " * Now we have much more information and can estimate more reliably and more complex models (caveat: unless complexity is purely driven by time dynamics)\n",
    " \n",
    "As a result of these advantages, global forecasting models have been very successful in competition, e.g.\n",
    "* Rossmann Store Sales\n",
    "* Walmart Sales in Stormy Weather\n",
    "* M5 competition\n",
    "\n",
    "Many business problems in practice are essentially global forecasting problem - often also reflecting hierarchical information (see above)\n",
    "* Product sales in different categories (e.g. M5 time series competition)\n",
    "* Balance sheet structures across cost centers / accounts\n",
    "* Dynamics of pandemics observed at different points in time\n",
    "\n",
    "Distinction to multivariate forecasting\n",
    "* Multivariate forecasting focuses on modeling interdependence between time series\n",
    "* Global can model interdependence, but focus lies on enhancing observation space\n",
    "\n",
    "Implementation in sktime\n",
    "* Multivariate forecasting models are supported in sktime via ? VAR...* \n",
    "* Global forecasting"
   ]
  },
  {
   "cell_type": "markdown",
   "metadata": {},
   "source": [
    "For the following example we will use the `\"pd-multiindex\"` representation of the `\"Panel\"` scitype (see above)\n",
    "\n",
    "Row multiindex level 0 is the unique identifier for the individual time series, level 1 contains the time index."
   ]
  },
  {
   "cell_type": "code",
   "execution_count": null,
   "metadata": {},
   "outputs": [],
   "source": [
    "import pandas as pd\n",
    "from sklearn.ensemble import RandomForestRegressor\n",
    "from sklearn.pipeline import make_pipeline\n",
    "\n",
    "from sktime.forecasting.compose import make_reduction\n",
    "from sktime.forecasting.model_selection import temporal_train_test_split\n",
    "from sktime.transformations.series.date import DateTimeFeatures\n",
    "\n",
    "pd.options.mode.chained_assignment = None\n",
    "pd.set_option(\"display.max_columns\", None)\n",
    "\n",
    "# %%\n",
    "# Load M5 Data and prepare\n",
    "y = pd.read_pickle(\"global_fc/y.pkl\")\n",
    "X = pd.read_pickle(\"global_fc/X.pkl\")"
   ]
  },
  {
   "cell_type": "markdown",
   "metadata": {},
   "source": [
    "`y`/`X` are based on the M5 competition.\n",
    "The data features sales of products in different stores, different states and different product categories. \n",
    "\n",
    "For a detailed analysis of the competition please take a look at the paper \n",
    "\"M5 accuracy competition: Results, findings, and conclusions\".\n",
    "\n",
    "https://doi.org/10.1016/j.ijforecast.2021.11.013"
   ]
  },
  {
   "cell_type": "markdown",
   "metadata": {},
   "source": [
    "You can see \n",
    "a glimpse of the data here:"
   ]
  },
  {
   "cell_type": "code",
   "execution_count": null,
   "metadata": {},
   "outputs": [],
   "source": [
    "print(y.head())\n",
    "print(X.head())"
   ]
  },
  {
   "cell_type": "markdown",
   "metadata": {},
   "source": [
    "\n",
    "* time series grouped via the instances argument in the first column = Panel\n",
    "* focus on modeling individual products\n",
    "* hierarchical information is provided as exgoneous information. \n",
    "\n",
    "For the M5 competition, winning solution used exogeneous features about the hierarchies like `\"dept_id\"`, `\"store_id\"` etc. to capture similarities and dissimilarities of the products. Other features include holiday events and snap days (specific assisstance program of US social security paid on certain days)."
   ]
  },
  {
   "cell_type": "markdown",
   "metadata": {},
   "source": [
    "now split into test and train set using `temporal_train_test_split`.\\\n",
    "we can cut every instance of the time series individually:\n"
   ]
  },
  {
   "cell_type": "code",
   "execution_count": null,
   "metadata": {},
   "outputs": [],
   "source": [
    "y_train, y_test, X_train, X_test = temporal_train_test_split(y, X)\n",
    "print(y_train.head(5))\n",
    "print(y_test.head(5))"
   ]
  },
  {
   "cell_type": "markdown",
   "metadata": {},
   "source": [
    "both `y` and `X` are split in the same way, and hierarchy structures are preserved."
   ]
  },
  {
   "cell_type": "markdown",
   "metadata": {},
   "source": [
    "### Rationale for tree based models\n",
    "\n",
    "Tree ensembles exploit complex non-linear relationships / dependencies between time series and covariates.\n",
    "\n",
    "In **univariate time series forecasting**, tree based models often do not perform well due to lack of data.\n",
    "\n",
    "Due to large effective sample sizes in **global forecasting** , tree ensembles can become a good choice (e.g., 42,840 time series in the M5 competition).\n",
    "\n",
    "sktime can interface any sklearn compatible model via reduction, e.g., `RandomForestRegressor`."
   ]
  },
  {
   "cell_type": "code",
   "execution_count": null,
   "metadata": {},
   "outputs": [],
   "source": [
    "regressor = make_pipeline(\n",
    "    RandomForestRegressor(random_state=1),\n",
    ")"
   ]
  },
  {
   "cell_type": "markdown",
   "metadata": {},
   "source": [
    "Caveat: reduction applies a supervised regressor to a time series, i.e., to a task for which they were not originally designed.\n",
    "\n",
    "This issue can be addressed by generating features that capture the dynamics of the time series.\\\n",
    "`\"WindowSummarizer\"` can be used to generate features useful for time series forecasting,\\\n",
    " based on a provided dictionary of functions, window shifts and window lengths:"
   ]
  },
  {
   "cell_type": "code",
   "execution_count": null,
   "metadata": {},
   "outputs": [],
   "source": [
    "import pandas as pd\n",
    "\n",
    "from sktime.forecasting.base import ForecastingHorizon\n",
    "from sktime.forecasting.compose import ForecastingPipeline\n",
    "from sktime.transformations.series.summarize import WindowSummarizer\n",
    "\n",
    "kwargs = {\n",
    "    \"lag_feature\": {\n",
    "        \"lag\": [1],\n",
    "        \"mean\": [[1, 3], [3, 6]],\n",
    "        \"std\": [[1, 4]],\n",
    "    }\n",
    "}\n",
    "\n",
    "transformer = WindowSummarizer(**kwargs)\n",
    "y_transformed = transformer.fit_transform(y_train)\n",
    "\n",
    "y_transformed.head(10)"
   ]
  },
  {
   "cell_type": "markdown",
   "metadata": {},
   "source": [
    "The notation `\"mean\": [[1, 3]]` (captured in the column `\"y_mean_1_3\"`) is read as:\n",
    "\n",
    "summarization function `\"mean\": [[1, 3]]` is applied to:\n",
    "\n",
    "* window of length 3\n",
    "* start (inclusive) is lagged by one period\n",
    "\n",
    "Visualization:\n",
    "\n",
    "For z = target time stamp:\\\n",
    "`window = [1, 3]`, means a `lag` of 1 and `window_length` of 3, selecting the three last days (exclusive z).\n",
    "\n",
    "Summarization is done across windows like this:\n",
    "\n",
    "| x x x x x x x x * * * z x |\n",
    "|---------------------------|"
   ]
  },
  {
   "cell_type": "markdown",
   "metadata": {},
   "source": [
    "By default, `\"WindowSummarizer\"` uses pandas rolling window functions to allow for a speedy generation of features. \n",
    "* \"sum\",\n",
    "* \"mean\",\n",
    "* \"median\",\n",
    "* \"std\",\n",
    "* \"var\",\n",
    "* \"kurt\",\n",
    "* \"min\",\n",
    "* \"max\",\n",
    "* \"corr\",\n",
    "* \"cov\",\n",
    "* \"skew\",\n",
    "* \"sem\"\n",
    "\n",
    "typically very fast since optimized for rolling, grouped operations\n",
    "\n",
    "In the M5 competition, arguably the most relevant features were:\n",
    "\n",
    "* **mean** calculations to capture level shifts, e.g. last week sales, sales of the week prior to the last month etc.\n",
    "* **standard deviation** to capture increases / decreases in volatility in sales, and how it impacts future sales\n",
    "* rolling **skewness** / **kurtosis** calculations, to capture changes in store sales tendencies.\n",
    "* various different calculations to capture periods of zero sales (e.g. out of stock scenarios)\n",
    "\n",
    "First three are available via native pandas functions.\\\n",
    "`WindowSummarizer` can also be provided with arbitrary summarizer functions.\n",
    "\n",
    "Example: function `count_gt130` to count how many observations lie above the threshold of 130 within a window of length 3, lagged by 2 periods."
   ]
  },
  {
   "cell_type": "code",
   "execution_count": null,
   "metadata": {},
   "outputs": [],
   "source": [
    "import numpy as np\n",
    "\n",
    "\n",
    "def count_gt130(x):\n",
    "    \"\"\"Count how many observations lie above threshold 130.\"\"\"\n",
    "    return np.sum((x > 700)[::-1])\n",
    "\n",
    "\n",
    "kwargs = {\n",
    "    \"lag_feature\": {\n",
    "        \"lag\": [1],\n",
    "        count_gt130: [[2, 3]],\n",
    "        \"std\": [[1, 4]],\n",
    "    }\n",
    "}\n",
    "\n",
    "transformer = WindowSummarizer(**kwargs)\n",
    "y_transformed = transformer.fit_transform(y_train)\n",
    "\n",
    "y_transformed.head(10)"
   ]
  },
  {
   "cell_type": "markdown",
   "metadata": {},
   "source": [
    "Above applies `\"WindowSummarizer\"` to the forecasting targey `y`.\n",
    "\n",
    "To apply `\"WindowSummarizer\"` to columns in `X`, use `\"WindowSummarizer\"` within a `\"ForecastingPipeline\"` and specify `\"target_cols\"`.\n",
    "\n",
    "In the M5 competition, lagging of exogeneous features was especially useful for lags around holiday dummies (often sales are affected for a few days before and after major holidays) as well as changes in item prices (discounts as well as persistent price changes)"
   ]
  },
  {
   "cell_type": "code",
   "execution_count": null,
   "metadata": {},
   "outputs": [],
   "source": [
    "from sktime.datasets import load_longley\n",
    "from sktime.forecasting.naive import NaiveForecaster\n",
    "\n",
    "y_ll, X_ll = load_longley()\n",
    "y_train_ll, y_test_ll, X_train_ll, X_test_ll = temporal_train_test_split(y_ll, X_ll)\n",
    "fh = ForecastingHorizon(X_test_ll.index, is_relative=False)\n",
    "# Example transforming only X\n",
    "pipe = ForecastingPipeline(\n",
    "    steps=[\n",
    "        (\"a\", WindowSummarizer(n_jobs=1, target_cols=[\"POP\", \"GNPDEFL\"])),\n",
    "        (\"b\", WindowSummarizer(n_jobs=1, target_cols=[\"GNP\"], **kwargs)),\n",
    "        (\"forecaster\", NaiveForecaster(strategy=\"drift\")),\n",
    "    ]\n",
    ")\n",
    "pipe_return = pipe.fit(y_train_ll, X_train_ll)\n",
    "y_pred1 = pipe_return.predict(fh=fh, X=X_test_ll)\n",
    "\n",
    "y_pred1"
   ]
  },
  {
   "cell_type": "markdown",
   "metadata": {},
   "source": [
    "For efficiency, relevant features are computed in a parallel way.\\\n",
    "For maximum parallelization, pass `WindowSummarizer` as a single transformer within `make_reduction`. \n",
    "\n",
    "In this case, `window_length` is inferred from the `WindowSummarizer` and need not be passed to `make_reduction`."
   ]
  },
  {
   "cell_type": "code",
   "execution_count": null,
   "metadata": {},
   "outputs": [],
   "source": [
    "forecaster = make_reduction(\n",
    "    regressor,\n",
    "    scitype=\"tabular-regressor\",\n",
    "    transformers=[WindowSummarizer(**kwargs, n_jobs=1)],\n",
    "    window_length=None,\n",
    "    strategy=\"recursive\",\n",
    "    pooling=\"global\",\n",
    ")"
   ]
  },
  {
   "cell_type": "markdown",
   "metadata": {},
   "source": [
    "Concepts relating to calendar seasonalities need to be provided by means of feature engineering to most models. Examples:\n",
    "\n",
    "* day of the week effects historically observed for stock prices (prices on Fridays used to differ from Monday prices).\n",
    "* used car prices being higher in spring than in summer\n",
    "* spendings at the beginning of the month differing from end of month due to salary effects.\n",
    "\n",
    "Calendar seasonalities can be modeled by means of dummy variables or fourier terms. As a rule of thumb, use dummy variables for discontinous effects and fourier/period/seasonality terms when you believe there is a certain degree of smoothness in the seasonality.\n",
    "\n",
    "`sktime` supports calendar dummy features via the `DateTimeFeatures` transformer. Manually specify the desired seasonality, or provide base frequency of the time series (daily, weekly etc.) and the desired complexity (few vs many features), `DateTimeFeatures` can infer sensible seasonality."
   ]
  },
  {
   "cell_type": "code",
   "execution_count": null,
   "metadata": {},
   "outputs": [],
   "source": [
    "transformer = DateTimeFeatures(ts_freq=\"D\")\n",
    "X_hat = transformer.fit_transform(X_train)\n",
    "\n",
    "new_cols = [i for i in X_hat if i not in X_train.columns]\n",
    "X_hat[new_cols]"
   ]
  },
  {
   "cell_type": "markdown",
   "metadata": {},
   "source": [
    "DateTimeFeatures supports the following frequencies:\n",
    "* Y - year\n",
    "* Q - quarter\n",
    "* M - month\n",
    "* W - week\n",
    "* D - day\n",
    "* H - hour\n",
    "* T - minute\n",
    "* S - second\n",
    "* L - millisecond\n",
    "\n",
    "You can specify the manual generation of dummy features with the notation e.g. \"day_of_month\", \"day_of_week\", \"week_of_quarter\". "
   ]
  },
  {
   "cell_type": "code",
   "execution_count": null,
   "metadata": {},
   "outputs": [],
   "source": [
    "transformer = DateTimeFeatures(manual_selection=[\"week_of_month\", \"day_of_quarter\"])\n",
    "X_hat = transformer.fit_transform(X_train)\n",
    "\n",
    "new_cols = [i for i in X_hat if i not in X_train.columns]\n",
    "X_hat[new_cols]"
   ]
  },
  {
   "cell_type": "markdown",
   "metadata": {},
   "source": [
    "### Putting it all together\n",
    "\n",
    "Using the `\"WindowSummarizer\"`, `\"DateTimeFeatures\"` and the `\"make_reduction\"` function we can now set up a working example of a an end to end global forecasting pipeline based on a sample of the M5 competition data:"
   ]
  },
  {
   "cell_type": "code",
   "execution_count": null,
   "metadata": {},
   "outputs": [],
   "source": [
    "pipe = ForecastingPipeline(\n",
    "    steps=[\n",
    "        (\n",
    "            \"event_dynamics\",\n",
    "            WindowSummarizer(\n",
    "                n_jobs=-1, **kwargs, target_cols=[\"event_type_1\", \"event_type_2\"]\n",
    "            ),\n",
    "        ),\n",
    "        (\"snap_dynamics\", WindowSummarizer(n_jobs=-1, target_cols=[\"snap\"])),\n",
    "        (\"daily_season\", DateTimeFeatures(ts_freq=\"D\")),\n",
    "        (\"forecaster\", forecaster),\n",
    "    ]\n",
    ")\n",
    "\n",
    "pipe_return = pipe.fit(y_train, X_train)\n",
    "y_pred1 = pipe_return.predict(fh=1, X=X_test)\n",
    "\n",
    "y_pred1"
   ]
  },
  {
   "cell_type": "markdown",
   "metadata": {},
   "source": [
    "---\n",
    "## Building your own hierarchical forecaster\n",
    "\n",
    "Getting started:\n",
    "\n",
    "* follow the [\"implementing estimator\" developer guide](https://www.sktime.org/en/stable/developer_guide/add_estimators.html)\n",
    "* use the advanced [forecasting extension template](https://github.com/alan-turing-institute/sktime/blob/main/extension_templates/forecasting.py)\n",
    "\n",
    "Extension template = python \"fill-in\" template with to-do blocks that allow you to implement your own, sktime-compatible forecasting algorithm.\n",
    "\n",
    "Check estimators using `check_estimator`\n",
    "\n",
    "For hierarchical forecasting:\n",
    "\n",
    "* ensure to pick supported mtypes for panel and hierarchical data\n",
    "* recommended: `y_inner_mtype = [\"pd.DataFrame\", \"pd-multiindex\", \"pd_multiindex_hier\"]`, same for `X_inner_mtype`\n",
    "    * this ensures the inputs `y`, `X` seen in `_fit`, `_predict` are `pd.DataFrame`, with 1, 2, 3 or more row levels\n",
    "* you can implement vectorization over rows if efficient implementation is available\n",
    "    * but: automated vectorization already loops over row index sets, don't implement that if that's what \"hierarchical\" is\n",
    "    * to ensure automated vectorization, do *not* include Hierarchical or Panel mtypes in `y_inner_mtype`, `X_inner_mtype`\n",
    "* think carefully whether your estimator is a forecaster, or can be decomposed in a transformer\n",
    "    * \"do X and then apply forecaster already in sktime\" is a strong hint that you actually want to implement a transformer\n"
   ]
  },
  {
   "cell_type": "markdown",
   "metadata": {},
   "source": [
    "---\n",
    "\n",
    "### Credits\n",
    "\n",
    "notebook creation: danbartl, fkiraly\n",
    "\n",
    "hierarchical forecasting framework: ciaran-g, fkiraly\\\n",
    "reduction compatibility with hierarchical forecasting: danbartl\\\n",
    "window summarizer, reduction with transform-from-y: danbartl\\\n",
    "aggregation and reconciliation: ciaran-g"
   ]
  }
 ],
 "metadata": {
  "kernelspec": {
   "display_name": "Python 3.8.10 ('sktime_202207')",
   "language": "python",
   "name": "python3"
  },
  "language_info": {
   "codemirror_mode": {
    "name": "ipython",
    "version": 3
   },
   "file_extension": ".py",
   "mimetype": "text/x-python",
   "name": "python",
   "nbconvert_exporter": "python",
   "pygments_lexer": "ipython3",
   "version": "3.8.10"
  },
  "vscode": {
   "interpreter": {
    "hash": "009b4bb1726219874338b568d0260da12180be3149fccd452a988a7866c0e305"
   }
  }
 },
 "nbformat": 4,
 "nbformat_minor": 4
}
